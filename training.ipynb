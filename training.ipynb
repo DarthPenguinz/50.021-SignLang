{
 "cells": [
  {
   "cell_type": "code",
   "execution_count": 1,
   "metadata": {},
   "outputs": [
    {
     "name": "stderr",
     "output_type": "stream",
     "text": [
      "WARNING: All log messages before absl::InitializeLog() is called are written to STDERR\n",
      "I0000 00:00:1711999025.464296       1 gl_context.cc:344] GL version: 2.1 (2.1 Metal - 88), renderer: Apple M3 Max\n",
      "INFO: Created TensorFlow Lite XNNPACK delegate for CPU.\n",
      "I0000 00:00:1711999025.495846       1 gl_context.cc:344] GL version: 2.1 (2.1 Metal - 88), renderer: Apple M3 Max\n"
     ]
    }
   ],
   "source": [
    "from functions import *\n",
    "from PointNet import PointNet\n",
    "from PointCNN import PointCNN\n",
    "\n",
    "torch.manual_seed(12456789)\n",
    "np.random.seed(12456789)"
   ]
  },
  {
   "cell_type": "code",
   "execution_count": 2,
   "metadata": {},
   "outputs": [],
   "source": [
    "# Refer to functions.py if you want to merge multiple datasets\n",
    "\n",
    "dataset1 = \"./combined_asl_alphabet/Train_Alphabet\"\n",
    "# dataset2 = \"./asl_dataset\"\n",
    "# dataset3 = \"./extras\"\n",
    "destination_path1 = \"./landmarks_1\"\n",
    "# destination_path2 = \"./landmarks_2\"\n",
    "# destination_path3 = \"./landmarks_3\"\n",
    "\n",
    "# CREATING DATASET DO NOT UNCOMMENT. \n",
    "# create_dataset(dataset1,destination_path1, transform)\n",
    "# create_dataset(dataset2,destination_path2, transform)\n",
    "# create_dataset(dataset3,destination_path3, transform)\n"
   ]
  },
  {
   "cell_type": "code",
   "execution_count": 3,
   "metadata": {},
   "outputs": [],
   "source": [
    "# merge_folders(destination_path2, destination_path1)\n",
    "# merge_folders(destination_path3, destination_path1)"
   ]
  },
  {
   "cell_type": "code",
   "execution_count": 4,
   "metadata": {},
   "outputs": [
    {
     "name": "stderr",
     "output_type": "stream",
     "text": [
      "/var/folders/3y/j1sjc53s5kd68c_jg7jw90pr0000gn/T/ipykernel_13291/2308339370.py:4: UserWarning: Creating a tensor from a list of numpy.ndarrays is extremely slow. Please consider converting the list to a single numpy.ndarray with numpy.array() before converting to a tensor. (Triggered internally at /Users/runner/work/pytorch/pytorch/pytorch/torch/csrc/utils/tensor_new.cpp:278.)\n",
      "  training_input_tensor = torch.Tensor([x[0] for x in training])\n"
     ]
    }
   ],
   "source": [
    "items = load_dataset(destination_path1)\n",
    "\n",
    "training, validation = random_split(items, [0.9, 0.1])\n",
    "training_input_tensor = torch.Tensor([x[0] for x in training])\n",
    "training_output_tensor = torch.LongTensor([int(x[1]) for x in training],device=device).long()\n",
    "validation_input_tensor = torch.Tensor([x[0] for x in validation])\n",
    "validation_output_tensor = torch.Tensor([int(x[1]) for x in validation], device=device).long()"
   ]
  },
  {
   "cell_type": "code",
   "execution_count": 5,
   "metadata": {},
   "outputs": [
    {
     "name": "stdout",
     "output_type": "stream",
     "text": [
      "Training:  torch.Size([43978, 21, 3]) torch.Size([43978])\n",
      "Validation:  torch.Size([4886, 21, 3]) torch.Size([4886])\n"
     ]
    }
   ],
   "source": [
    "print(\"Training: \", training_input_tensor.shape, training_output_tensor.shape)\n",
    "print(\"Validation: \", validation_input_tensor.shape, validation_output_tensor.shape)"
   ]
  },
  {
   "cell_type": "code",
   "execution_count": 6,
   "metadata": {},
   "outputs": [
    {
     "name": "stdout",
     "output_type": "stream",
     "text": [
      "29\n"
     ]
    }
   ],
   "source": [
    "batch_size = 128\n",
    "epochs = 10\n",
    "\n",
    "print(len(char2int))\n",
    "tensor_train_dataset = TensorDataset(training_input_tensor,training_output_tensor) \n",
    "train_dataloader = DataLoader(tensor_train_dataset, batch_size = batch_size, shuffle = True)\n",
    "tensor_val_dataset = TensorDataset(validation_input_tensor,validation_output_tensor)\n",
    "val_dataloader = DataLoader(tensor_val_dataset, batch_size = batch_size, shuffle = True)\n",
    "model1 = PointNet(len(char2int)).to(device)\n",
    "model2 = PointCNN(len(char2int)).to(device)"
   ]
  },
  {
   "cell_type": "markdown",
   "metadata": {},
   "source": [
    "Model 1"
   ]
  },
  {
   "cell_type": "code",
   "execution_count": 7,
   "metadata": {},
   "outputs": [
    {
     "name": "stdout",
     "output_type": "stream",
     "text": [
      "Current epoch:0\n",
      "Acc train: 0.8811668909566347, Loss train: 0.8317665710265554, Acc val: 0.9631774471356318, Loss val: 0.2644093850484261,\n",
      "Current epoch:1\n",
      "Acc train: 0.9732528677166894, Loss train: 0.18586903682714978, Acc val: 0.9761618589743589, Loss val: 0.13947737331573778,\n",
      "Current epoch:2\n"
     ]
    },
    {
     "ename": "KeyboardInterrupt",
     "evalue": "",
     "output_type": "error",
     "traceback": [
      "\u001b[0;31m---------------------------------------------------------------------------\u001b[0m",
      "\u001b[0;31mKeyboardInterrupt\u001b[0m                         Traceback (most recent call last)",
      "Cell \u001b[0;32mIn[7], line 1\u001b[0m\n\u001b[0;32m----> 1\u001b[0m loss_train_all1, acc_train_all1, loss_val_all1, acc_val_all1 \u001b[38;5;241m=\u001b[39m \u001b[43mtrain_model\u001b[49m\u001b[43m(\u001b[49m\u001b[43mmodel1\u001b[49m\u001b[43m,\u001b[49m\u001b[43mepochs\u001b[49m\u001b[43m,\u001b[49m\u001b[43mtrain_dataloader\u001b[49m\u001b[43m,\u001b[49m\u001b[43mval_dataloader\u001b[49m\u001b[43m,\u001b[49m\u001b[38;5;124;43m\"\u001b[39;49m\u001b[38;5;124;43mPointNet-LR0.0001\u001b[39;49m\u001b[38;5;124;43m\"\u001b[39;49m\u001b[43m,\u001b[49m\u001b[43mlearn_rate\u001b[49m\u001b[38;5;241;43m=\u001b[39;49m\u001b[38;5;241;43m0.0001\u001b[39;49m\u001b[43m)\u001b[49m\n",
      "File \u001b[0;32m~/Desktop/50.021-SignLang/functions.py:253\u001b[0m, in \u001b[0;36mtrain_model\u001b[0;34m(model, epochs, train_dataloader, val_dataloader, folder_name, learn_rate)\u001b[0m\n\u001b[1;32m    251\u001b[0m \u001b[38;5;28;01mfor\u001b[39;00m batch \u001b[38;5;129;01min\u001b[39;00m train_dataloader:\n\u001b[1;32m    252\u001b[0m     counter \u001b[38;5;241m+\u001b[39m\u001b[38;5;241m=\u001b[39m \u001b[38;5;241m1\u001b[39m\n\u001b[0;32m--> 253\u001b[0m     loss, acc \u001b[38;5;241m=\u001b[39m \u001b[43mtrain_batch\u001b[49m\u001b[43m(\u001b[49m\u001b[43mmodel\u001b[49m\u001b[43m,\u001b[49m\u001b[43m \u001b[49m\u001b[43mbatch\u001b[49m\u001b[43m,\u001b[49m\u001b[43m \u001b[49m\u001b[43moptimizer\u001b[49m\u001b[43m)\u001b[49m\n\u001b[1;32m    254\u001b[0m     loss_ep\u001b[38;5;241m.\u001b[39mappend(loss)\n\u001b[1;32m    255\u001b[0m     acc_ep\u001b[38;5;241m.\u001b[39mappend(acc)\n",
      "File \u001b[0;32m~/Desktop/50.021-SignLang/functions.py:222\u001b[0m, in \u001b[0;36mtrain_batch\u001b[0;34m(model, batch, optimizer)\u001b[0m\n\u001b[1;32m    220\u001b[0m optimizer\u001b[38;5;241m.\u001b[39mzero_grad()\n\u001b[1;32m    221\u001b[0m loss, acc \u001b[38;5;241m=\u001b[39m model\u001b[38;5;241m.\u001b[39mloss_fn(preds, classes)\n\u001b[0;32m--> 222\u001b[0m \u001b[43mloss\u001b[49m\u001b[38;5;241;43m.\u001b[39;49m\u001b[43mbackward\u001b[49m\u001b[43m(\u001b[49m\u001b[43m)\u001b[49m\n\u001b[1;32m    223\u001b[0m optimizer\u001b[38;5;241m.\u001b[39mstep()\n\u001b[1;32m    224\u001b[0m \u001b[38;5;28;01mreturn\u001b[39;00m loss\u001b[38;5;241m.\u001b[39mitem(), acc\u001b[38;5;241m.\u001b[39mitem()\n",
      "File \u001b[0;32m~/Desktop/50.021-SignLang/venv/lib/python3.9/site-packages/torch/_tensor.py:522\u001b[0m, in \u001b[0;36mTensor.backward\u001b[0;34m(self, gradient, retain_graph, create_graph, inputs)\u001b[0m\n\u001b[1;32m    512\u001b[0m \u001b[38;5;28;01mif\u001b[39;00m has_torch_function_unary(\u001b[38;5;28mself\u001b[39m):\n\u001b[1;32m    513\u001b[0m     \u001b[38;5;28;01mreturn\u001b[39;00m handle_torch_function(\n\u001b[1;32m    514\u001b[0m         Tensor\u001b[38;5;241m.\u001b[39mbackward,\n\u001b[1;32m    515\u001b[0m         (\u001b[38;5;28mself\u001b[39m,),\n\u001b[0;32m   (...)\u001b[0m\n\u001b[1;32m    520\u001b[0m         inputs\u001b[38;5;241m=\u001b[39minputs,\n\u001b[1;32m    521\u001b[0m     )\n\u001b[0;32m--> 522\u001b[0m \u001b[43mtorch\u001b[49m\u001b[38;5;241;43m.\u001b[39;49m\u001b[43mautograd\u001b[49m\u001b[38;5;241;43m.\u001b[39;49m\u001b[43mbackward\u001b[49m\u001b[43m(\u001b[49m\n\u001b[1;32m    523\u001b[0m \u001b[43m    \u001b[49m\u001b[38;5;28;43mself\u001b[39;49m\u001b[43m,\u001b[49m\u001b[43m \u001b[49m\u001b[43mgradient\u001b[49m\u001b[43m,\u001b[49m\u001b[43m \u001b[49m\u001b[43mretain_graph\u001b[49m\u001b[43m,\u001b[49m\u001b[43m \u001b[49m\u001b[43mcreate_graph\u001b[49m\u001b[43m,\u001b[49m\u001b[43m \u001b[49m\u001b[43minputs\u001b[49m\u001b[38;5;241;43m=\u001b[39;49m\u001b[43minputs\u001b[49m\n\u001b[1;32m    524\u001b[0m \u001b[43m\u001b[49m\u001b[43m)\u001b[49m\n",
      "File \u001b[0;32m~/Desktop/50.021-SignLang/venv/lib/python3.9/site-packages/torch/autograd/__init__.py:266\u001b[0m, in \u001b[0;36mbackward\u001b[0;34m(tensors, grad_tensors, retain_graph, create_graph, grad_variables, inputs)\u001b[0m\n\u001b[1;32m    261\u001b[0m     retain_graph \u001b[38;5;241m=\u001b[39m create_graph\n\u001b[1;32m    263\u001b[0m \u001b[38;5;66;03m# The reason we repeat the same comment below is that\u001b[39;00m\n\u001b[1;32m    264\u001b[0m \u001b[38;5;66;03m# some Python versions print out the first line of a multi-line function\u001b[39;00m\n\u001b[1;32m    265\u001b[0m \u001b[38;5;66;03m# calls in the traceback and some print out the last line\u001b[39;00m\n\u001b[0;32m--> 266\u001b[0m \u001b[43mVariable\u001b[49m\u001b[38;5;241;43m.\u001b[39;49m\u001b[43m_execution_engine\u001b[49m\u001b[38;5;241;43m.\u001b[39;49m\u001b[43mrun_backward\u001b[49m\u001b[43m(\u001b[49m\u001b[43m  \u001b[49m\u001b[38;5;66;43;03m# Calls into the C++ engine to run the backward pass\u001b[39;49;00m\n\u001b[1;32m    267\u001b[0m \u001b[43m    \u001b[49m\u001b[43mtensors\u001b[49m\u001b[43m,\u001b[49m\n\u001b[1;32m    268\u001b[0m \u001b[43m    \u001b[49m\u001b[43mgrad_tensors_\u001b[49m\u001b[43m,\u001b[49m\n\u001b[1;32m    269\u001b[0m \u001b[43m    \u001b[49m\u001b[43mretain_graph\u001b[49m\u001b[43m,\u001b[49m\n\u001b[1;32m    270\u001b[0m \u001b[43m    \u001b[49m\u001b[43mcreate_graph\u001b[49m\u001b[43m,\u001b[49m\n\u001b[1;32m    271\u001b[0m \u001b[43m    \u001b[49m\u001b[43minputs\u001b[49m\u001b[43m,\u001b[49m\n\u001b[1;32m    272\u001b[0m \u001b[43m    \u001b[49m\u001b[43mallow_unreachable\u001b[49m\u001b[38;5;241;43m=\u001b[39;49m\u001b[38;5;28;43;01mTrue\u001b[39;49;00m\u001b[43m,\u001b[49m\n\u001b[1;32m    273\u001b[0m \u001b[43m    \u001b[49m\u001b[43maccumulate_grad\u001b[49m\u001b[38;5;241;43m=\u001b[39;49m\u001b[38;5;28;43;01mTrue\u001b[39;49;00m\u001b[43m,\u001b[49m\n\u001b[1;32m    274\u001b[0m \u001b[43m\u001b[49m\u001b[43m)\u001b[49m\n",
      "\u001b[0;31mKeyboardInterrupt\u001b[0m: "
     ]
    }
   ],
   "source": [
    "loss_train_all1, acc_train_all1, loss_val_all1, acc_val_all1 = train_model(model1,epochs,train_dataloader,val_dataloader,\"PointNet-LR0.0001\",learn_rate=0.0001)"
   ]
  },
  {
   "cell_type": "markdown",
   "metadata": {},
   "source": [
    "Model 2"
   ]
  },
  {
   "cell_type": "code",
   "execution_count": null,
   "metadata": {},
   "outputs": [
    {
     "name": "stdout",
     "output_type": "stream",
     "text": [
      "Current epoch:0\n",
      "Loss train 0.008489783395076344 Loss val 0.04068547362485566 Acc train 0.9990977078329685 Acc val 0.9897836538461539\n",
      "Current epoch:1\n",
      "Loss train 0.006052565365301466 Loss val 0.03879233583425864 Acc train 0.9995684956395349 Acc val 0.9897836538461539\n",
      "Current epoch:2\n",
      "Loss train 0.005016004769903131 Loss val 0.03920681066273783 Acc train 0.9996820494186046 Acc val 0.9897836538461539\n",
      "Current epoch:3\n",
      "Loss train 0.004392611549836908 Loss val 0.038141570991287246 Acc train 0.9997274709302325 Acc val 0.9897836538461539\n",
      "Current epoch:4\n",
      "Loss train 0.00391128268140249 Loss val 0.03996385142016105 Acc train 0.9997956031976745 Acc val 0.9899839743589743\n",
      "Current epoch:5\n",
      "Loss train 0.003621926817157696 Loss val 0.03784900992953529 Acc train 0.9998410247093024 Acc val 0.9899839743589743\n",
      "Current epoch:6\n",
      "Loss train 0.0033219308551092263 Loss val 0.03736151603516191 Acc train 0.9998183139534884 Acc val 0.9907852564102564\n",
      "Current epoch:7\n",
      "Loss train 0.003063944462642106 Loss val 0.044014299127201624 Acc train 0.9998637354651163 Acc val 0.9890552163124084\n",
      "Current epoch:8\n",
      "Loss train 0.0027777779315054135 Loss val 0.03799863199058633 Acc train 0.9999318677325582 Acc val 0.9905849358974359\n",
      "Current epoch:9\n",
      "Loss train 0.0025495902891000083 Loss val 0.03953912161075725 Acc train 0.9999545784883721 Acc val 0.9902207163664011\n"
     ]
    }
   ],
   "source": [
    "loss_train_all2, acc_train_all2, loss_val_all2, acc_val_all2 = train_model(model1,epochs,train_dataloader,val_dataloader,\"PointNet-LR0.00001\",learn_rate=0.00001)"
   ]
  },
  {
   "cell_type": "markdown",
   "metadata": {},
   "source": [
    "Model 3"
   ]
  },
  {
   "cell_type": "code",
   "execution_count": null,
   "metadata": {},
   "outputs": [
    {
     "name": "stdout",
     "output_type": "stream",
     "text": [
      "Current epoch:0\n",
      "Loss train 2.2390456074892087 Loss val 1.782759244625385 Acc train 0.2885401526162791 Acc val 0.41877913780701465\n",
      "Current epoch:1\n",
      "Loss train 1.634666338909504 Loss val 1.4798800028287447 Acc train 0.4759394886881806 Acc val 0.5209608093286172\n",
      "Current epoch:2\n",
      "Loss train 1.480140640985134 Loss val 1.3970469419772809 Acc train 0.5178795028911081 Acc val 0.537350669885293\n",
      "Current epoch:3\n",
      "Loss train 1.4326320138088493 Loss val 1.40606811719063 Acc train 0.5318159275623255 Acc val 0.5365129663394048\n",
      "Current epoch:4\n",
      "Loss train 1.399534547051718 Loss val 1.4083171930068579 Acc train 0.5399525160359782 Acc val 0.5278809735408196\n",
      "Current epoch:5\n",
      "Loss train 1.3853636238464089 Loss val 1.3429322976332445 Acc train 0.5428097747093024 Acc val 0.5422312067105219\n",
      "Current epoch:6\n",
      "Loss train 1.3708865264820498 Loss val 1.3385457839721289 Acc train 0.5456731713615185 Acc val 0.5526842948717948\n",
      "Current epoch:7\n",
      "Loss train 1.3606192809204722 Loss val 1.345086464515099 Acc train 0.5480934014154035 Acc val 0.5521561770867078\n",
      "Current epoch:8\n",
      "Loss train 1.352782370739205 Loss val 1.3311091294655433 Acc train 0.5487642892917921 Acc val 0.5583843237314469\n",
      "Current epoch:9\n",
      "Loss train 1.3445554559313975 Loss val 1.3370107534604194 Acc train 0.551584105938673 Acc val 0.5543961249865018\n"
     ]
    }
   ],
   "source": [
    "loss_train_all3, acc_train_all3, loss_val_all3, acc_val_all3 = train_model(model2,epochs,train_dataloader,val_dataloader,\"PointCNN-LR0.001\",learn_rate=0.001)"
   ]
  },
  {
   "cell_type": "markdown",
   "metadata": {},
   "source": [
    "Model 4"
   ]
  },
  {
   "cell_type": "code",
   "execution_count": null,
   "metadata": {},
   "outputs": [
    {
     "name": "stdout",
     "output_type": "stream",
     "text": [
      "Current epoch:0\n",
      "Loss train 1.7711768711722173 Loss val 1.579183933062431 Acc train 0.439952761627907 Acc val 0.47301136377530223\n",
      "Current epoch:1\n",
      "Loss train 1.5548597934634187 Loss val 1.5517837328788562 Acc train 0.48275823969134063 Acc val 0.4762347027277335\n",
      "Current epoch:2\n",
      "Loss train 1.513296656137289 Loss val 1.4484324974891467 Acc train 0.4958420903530232 Acc val 0.5180288461538461\n",
      "Current epoch:3\n",
      "Loss train 1.483368559978729 Loss val 1.4960524944158702 Acc train 0.5068034058393434 Acc val 0.5094150641025641\n",
      "Current epoch:4\n",
      "Loss train 1.4596361251071441 Loss val 1.4854992964328864 Acc train 0.5152597865739534 Acc val 0.48213505286436814\n",
      "Current epoch:5\n",
      "Loss train 1.4656845483669014 Loss val 1.4222146333792272 Acc train 0.5127137266099453 Acc val 0.5319602275506045\n",
      "Current epoch:6\n",
      "Loss train 1.453452270044837 Loss val 1.4508717243488019 Acc train 0.5163351714957592 Acc val 0.5226180072014148\n",
      "Current epoch:7\n",
      "Loss train 1.4205399316757223 Loss val 1.3726178713333912 Acc train 0.5248418840211492 Acc val 0.541830565684881\n",
      "Current epoch:8\n",
      "Loss train 1.4297171422215396 Loss val 1.3946231878720796 Acc train 0.5250518050824486 Acc val 0.5381883734311813\n",
      "Current epoch:9\n",
      "Loss train 1.4333368394263954 Loss val 1.3541936629857771 Acc train 0.5248394287949385 Acc val 0.5469842660121429\n"
     ]
    }
   ],
   "source": [
    "loss_train_all4, acc_train_all4, loss_val_all4, acc_val_all4 = train_model(model2,epochs,train_dataloader,val_dataloader,\"PointCNN-LR0.01\",learn_rate=0.01)"
   ]
  },
  {
   "cell_type": "code",
   "execution_count": null,
   "metadata": {},
   "outputs": [
    {
     "data": {
      "image/png": "[encoded data removed]",
      "text/plain": [
       "<Figure size 640x480 with 1 Axes>"
      ]
     },
     "metadata": {},
     "output_type": "display_data"
    },
    {
     "data": {
      "image/png": "[encoded data removed]",
      "text/plain": [
       "<Figure size 640x480 with 1 Axes>"
      ]
     },
     "metadata": {},
     "output_type": "display_data"
    }
   ],
   "source": [
    "plot_two_lines_same_x(acc_train_all1, acc_val_all1, \"Epochs\", \"Accuracy\", \"Model 1\")\n",
    "plot_two_lines_same_x(loss_train_all1, loss_val_all1, \"Epochs\", \"Loss\", \"Model 1\")"
   ]
  },
  {
   "cell_type": "code",
   "execution_count": null,
   "metadata": {},
   "outputs": [],
   "source": [
    "plot_two_lines_same_x(acc_train_all2, acc_val_all2, \"Epochs\", \"Accuracy\", \"Model 2\")\n",
    "plot_two_lines_same_x(loss_train_all2, loss_val_all2, \"Epochs\", \"Loss\", \"Model 2\")"
   ]
  },
  {
   "cell_type": "code",
   "execution_count": null,
   "metadata": {},
   "outputs": [],
   "source": [
    "plot_two_lines_same_x(acc_train_all3, acc_val_all3, \"Epochs\", \"Accuracy\", \"Model 3\")\n",
    "plot_two_lines_same_x(loss_train_all3, loss_val_all3, \"Epochs\", \"Loss\", \"Model 3\")"
   ]
  },
  {
   "cell_type": "code",
   "execution_count": null,
   "metadata": {},
   "outputs": [],
   "source": [
    "plot_two_lines_same_x(acc_train_all4, acc_val_all4, \"Epochs\", \"Accuracy\", \"Model 4\")\n",
    "plot_two_lines_same_x(loss_train_all4, loss_val_all4, \"Epochs\", \"Loss\", \"Model 4\")"
   ]
  },
  {
   "cell_type": "code",
   "execution_count": null,
   "metadata": {},
   "outputs": [
    {
     "name": "stdout",
     "output_type": "stream",
     "text": [
      "Current sign:test_alphabet\n",
      "Current sign:r\n",
      "Current sign:u\n",
      "Current sign:i\n",
      "Current sign:n\n",
      "Current sign:g\n",
      "Current sign:z\n",
      "Current sign:t\n",
      "Current sign:s\n",
      "Current sign:a\n",
      "Current sign:f\n",
      "Current sign:o\n",
      "Current sign:h\n",
      "Current sign:blank\n",
      "Current sign:del\n",
      "Current sign:space\n",
      "Current sign:m\n",
      "Current sign:j\n",
      "Current sign:c\n",
      "Current sign:d\n",
      "Current sign:v\n",
      "Current sign:q\n",
      "Current sign:x\n",
      "Current sign:e\n",
      "Current sign:b\n",
      "Current sign:k\n",
      "Current sign:l\n",
      "Current sign:y\n",
      "Current sign:p\n",
      "Current sign:w\n",
      "Current sign:test_alphabet\n",
      "Current sign:r\n",
      "Current sign:u\n",
      "Current sign:i\n",
      "Current sign:n\n",
      "Current sign:g\n",
      "Current sign:z\n",
      "Current sign:t\n",
      "Current sign:s\n",
      "Current sign:a\n",
      "Current sign:f\n",
      "Current sign:o\n",
      "Current sign:h\n",
      "Current sign:blank\n",
      "Current sign:del\n",
      "Current sign:space\n",
      "Current sign:m\n",
      "Current sign:j\n",
      "Current sign:c\n",
      "Current sign:d\n",
      "Current sign:v\n",
      "Current sign:q\n",
      "Current sign:x\n",
      "Current sign:e\n",
      "Current sign:b\n",
      "Current sign:k\n",
      "Current sign:l\n",
      "Current sign:y\n",
      "Current sign:p\n",
      "Current sign:w\n"
     ]
    }
   ],
   "source": [
    "model_path1 = \"./saved_models/PointNet-LR0.0001/model_10.pth\"\n",
    "model_path2 = \"./saved_models/PointNet-LR0.00001/model_10.pth\"\n",
    "test_path = \"./combined_asl_alphabet/Test_Alphabet\"\n",
    "\n",
    "actuals1, predicteds1, count1, failcount1, wrongs1, errored1 = predict_images(model_path1, test_path, \"./misclassified\")\n",
    "actuals2, predicteds2, count2, failcount2, wrongs2, errored2 = predict_images(model_path2, test_path, \"./misclassified\")"
   ]
  },
  {
   "cell_type": "code",
   "execution_count": null,
   "metadata": {},
   "outputs": [
    {
     "name": "stdout",
     "output_type": "stream",
     "text": [
      "[]\n",
      "0.9910394265232975\n"
     ]
    }
   ],
   "source": [
    "print(errored1)\n",
    "accuracy1 = calculate_accuracy(actuals1, predicteds1)\n",
    "print(accuracy1)"
   ]
  },
  {
   "cell_type": "code",
   "execution_count": null,
   "metadata": {},
   "outputs": [
    {
     "name": "stdout",
     "output_type": "stream",
     "text": [
      "[]\n",
      "0.9919427036705462\n"
     ]
    }
   ],
   "source": [
    "print(errored2)\n",
    "accuracy2 = calculate_accuracy(actuals2, predicteds2)\n",
    "print(accuracy2)"
   ]
  }
 ],
 "metadata": {
  "kernelspec": {
   "display_name": "deeplearning",
   "language": "python",
   "name": "python3"
  },
  "language_info": {
   "codemirror_mode": {
    "name": "ipython",
    "version": 3
   },
   "file_extension": ".py",
   "mimetype": "text/x-python",
   "name": "python",
   "nbconvert_exporter": "python",
   "pygments_lexer": "ipython3",
   "version": "3.9.18"
  }
 },
 "nbformat": 4,
 "nbformat_minor": 2
}
